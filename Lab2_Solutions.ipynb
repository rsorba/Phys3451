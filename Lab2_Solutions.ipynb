{
 "cells": [
  {
   "cell_type": "code",
   "execution_count": 1,
   "id": "organic-revelation",
   "metadata": {},
   "outputs": [],
   "source": [
    "import numpy as np\n",
    "import matplotlib.pyplot as plt\n",
    "from sympy.vector import CoordSys3D"
   ]
  },
  {
   "cell_type": "code",
   "execution_count": 48,
   "id": "pharmaceutical-rescue",
   "metadata": {},
   "outputs": [],
   "source": [
    "%matplotlib widget"
   ]
  },
  {
   "cell_type": "code",
   "execution_count": 2,
   "id": "economic-playlist",
   "metadata": {},
   "outputs": [],
   "source": [
    "#Define a coordinate system:\n",
    "C = CoordSys3D('C')"
   ]
  },
  {
   "cell_type": "code",
   "execution_count": 3,
   "id": "color-guidance",
   "metadata": {},
   "outputs": [
    {
     "name": "stdout",
     "output_type": "stream",
     "text": [
      "(-3)*C.j + (-3)*C.k\n"
     ]
    },
    {
     "data": {
      "text/latex": [
       "$\\displaystyle (- \\frac{\\sqrt{2}}{2})\\mathbf{\\hat{j}_{C}} + (- \\frac{\\sqrt{2}}{2})\\mathbf{\\hat{k}_{C}}$"
      ],
      "text/plain": [
       "(-sqrt(2)/2)*C.j + (-sqrt(2)/2)*C.k"
      ]
     },
     "execution_count": 3,
     "metadata": {},
     "output_type": "execute_result"
    }
   ],
   "source": [
    "# Problem 1:\n",
    "# First, define our two vectors\n",
    "A = 2*C.i + C.j - C.k\n",
    "B = C.i - C.j + C.k\n",
    "\n",
    "# The cross product AxB is perpendicular to A and B\n",
    "NewVector = A.cross(B)\n",
    "print(NewVector)\n",
    "# This result is not normalized though, so we need to divide by the magnitude of the vector\n",
    "NewVector = NewVector.normalize()\n",
    "NewVector"
   ]
  },
  {
   "cell_type": "code",
   "execution_count": 15,
   "id": "numeric-knife",
   "metadata": {},
   "outputs": [
    {
     "data": {
      "text/latex": [
       "$\\displaystyle 0$"
      ],
      "text/plain": [
       "0"
      ]
     },
     "execution_count": 15,
     "metadata": {},
     "output_type": "execute_result"
    }
   ],
   "source": [
    "# Now we can verify that this is perpendicular by finding the dot product of this with both A and B\n",
    "A.dot(NewVector)"
   ]
  },
  {
   "cell_type": "code",
   "execution_count": 16,
   "id": "behind-beach",
   "metadata": {},
   "outputs": [
    {
     "data": {
      "text/latex": [
       "$\\displaystyle 0$"
      ],
      "text/plain": [
       "0"
      ]
     },
     "execution_count": 16,
     "metadata": {},
     "output_type": "execute_result"
    }
   ],
   "source": [
    "B.dot(NewVector)\n",
    "# Both of these return 0, which means that the vector is perpendicular to both A and B"
   ]
  },
  {
   "cell_type": "code",
   "execution_count": 22,
   "id": "rocky-episode",
   "metadata": {},
   "outputs": [
    {
     "data": {
      "text/latex": [
       "$\\displaystyle \\left[\\begin{matrix}0 & \\frac{\\sqrt{6}}{2} & 0 & 0\\\\\\frac{\\sqrt{6}}{2} & 0 & \\sqrt{2} & 0\\\\0 & \\sqrt{2} & 0 & \\frac{\\sqrt{6}}{2}\\\\0 & 0 & \\frac{\\sqrt{6}}{2} & 0\\end{matrix}\\right]$"
      ],
      "text/plain": [
       "Matrix([\n",
       "[        0, sqrt(6)/2,         0,         0],\n",
       "[sqrt(6)/2,         0,   sqrt(2),         0],\n",
       "[        0,   sqrt(2),         0, sqrt(6)/2],\n",
       "[        0,         0, sqrt(6)/2,         0]])"
      ]
     },
     "execution_count": 22,
     "metadata": {},
     "output_type": "execute_result"
    }
   ],
   "source": [
    "# Problem 2\n",
    "A = Matrix([[0,sqrt(3),0,0],[sqrt(3),0,2,0],[0,2,0,sqrt(3)],[0,0,sqrt(3),0]])\n",
    "A = 1/sqrt(2)*A\n",
    "A"
   ]
  },
  {
   "cell_type": "code",
   "execution_count": 23,
   "id": "thermal-friend",
   "metadata": {},
   "outputs": [
    {
     "data": {
      "text/latex": [
       "$\\displaystyle \\frac{9}{4}$"
      ],
      "text/plain": [
       "9/4"
      ]
     },
     "execution_count": 23,
     "metadata": {},
     "output_type": "execute_result"
    }
   ],
   "source": [
    "det(A)"
   ]
  },
  {
   "cell_type": "code",
   "execution_count": 25,
   "id": "acoustic-borough",
   "metadata": {},
   "outputs": [
    {
     "data": {
      "text/latex": [
       "$\\displaystyle \\left[\\begin{matrix}0 & \\frac{\\sqrt{6}}{3} & 0 & - \\frac{2 \\sqrt{2}}{3}\\\\\\frac{\\sqrt{6}}{3} & 0 & 0 & 0\\\\0 & 0 & 0 & \\frac{\\sqrt{6}}{3}\\\\- \\frac{2 \\sqrt{2}}{3} & 0 & \\frac{\\sqrt{6}}{3} & 0\\end{matrix}\\right]$"
      ],
      "text/plain": [
       "Matrix([\n",
       "[           0, sqrt(6)/3,         0, -2*sqrt(2)/3],\n",
       "[   sqrt(6)/3,         0,         0,            0],\n",
       "[           0,         0,         0,    sqrt(6)/3],\n",
       "[-2*sqrt(2)/3,         0, sqrt(6)/3,            0]])"
      ]
     },
     "execution_count": 25,
     "metadata": {},
     "output_type": "execute_result"
    }
   ],
   "source": [
    "# The determinant is not 0, so we can find an inverse:\n",
    "A**-1"
   ]
  },
  {
   "cell_type": "code",
   "execution_count": 43,
   "id": "sustainable-charter",
   "metadata": {},
   "outputs": [
    {
     "data": {
      "text/latex": [
       "$\\displaystyle \\left[\\begin{matrix}0 & \\frac{\\sqrt{6}}{2} & 0 & 0\\\\\\frac{\\sqrt{6}}{2} & 0 & \\sqrt{2} & 0\\\\0 & \\sqrt{2} & 0 & \\frac{\\sqrt{6}}{2}\\\\0 & 0 & \\frac{\\sqrt{6}}{2} & 0\\end{matrix}\\right]$"
      ],
      "text/plain": [
       "Matrix([\n",
       "[        0, sqrt(6)/2,         0,         0],\n",
       "[sqrt(6)/2,         0,   sqrt(2),         0],\n",
       "[        0,   sqrt(2),         0, sqrt(6)/2],\n",
       "[        0,         0, sqrt(6)/2,         0]])"
      ]
     },
     "execution_count": 43,
     "metadata": {},
     "output_type": "execute_result"
    }
   ],
   "source": [
    "A.T\n",
    "# The transpose is the same as A, so the matrix is symmetric.\n",
    "# There was a typo in the lab here, so I didn't deduct marks for this question.\n",
    "# A symmetric matrix is one for which A^T = A\n",
    "# An anti-symmetric matrix is one for which A^T = -A."
   ]
  },
  {
   "cell_type": "code",
   "execution_count": 28,
   "id": "common-barrel",
   "metadata": {},
   "outputs": [
    {
     "data": {
      "text/latex": [
       "$\\displaystyle \\left[\\begin{matrix}1 & 0 & 10 & -4 & 1\\\\1 & 1 & 4 & -1 & 2\\\\2 & 3 & 2 & 1 & 5\\\\-2 & -2 & -8 & 2 & -4\\\\0 & 1 & -6 & 3 & 1\\end{matrix}\\right]$"
      ],
      "text/plain": [
       "Matrix([\n",
       "[ 1,  0, 10, -4,  1],\n",
       "[ 1,  1,  4, -1,  2],\n",
       "[ 2,  3,  2,  1,  5],\n",
       "[-2, -2, -8,  2, -4],\n",
       "[ 0,  1, -6,  3,  1]])"
      ]
     },
     "execution_count": 28,
     "metadata": {},
     "output_type": "execute_result"
    }
   ],
   "source": [
    "# Problem 3\n",
    "# Write the coefficients of the equation as a matrix:\n",
    "B = Matrix([[1,0,10,-4,1],[1,1,4,-1,2],[2,3,2,1,5],[-2,-2,-8,2,-4],[0,1,-6,3,1]])\n",
    "B"
   ]
  },
  {
   "cell_type": "code",
   "execution_count": 31,
   "id": "prospective-advocacy",
   "metadata": {},
   "outputs": [
    {
     "data": {
      "text/latex": [
       "$\\displaystyle \\left[\\begin{matrix}1 & 0 & 10 & -4 & 1\\\\0 & 1 & -6 & 3 & 1\\\\0 & 0 & 0 & 0 & 0\\\\0 & 0 & 0 & 0 & 0\\\\0 & 0 & 0 & 0 & 0\\end{matrix}\\right]$"
      ],
      "text/plain": [
       "Matrix([\n",
       "[1, 0, 10, -4, 1],\n",
       "[0, 1, -6,  3, 1],\n",
       "[0, 0,  0,  0, 0],\n",
       "[0, 0,  0,  0, 0],\n",
       "[0, 0,  0,  0, 0]])"
      ]
     },
     "execution_count": 31,
     "metadata": {},
     "output_type": "execute_result"
    }
   ],
   "source": [
    "B.rref()[0]"
   ]
  },
  {
   "cell_type": "code",
   "execution_count": 30,
   "id": "electric-leader",
   "metadata": {},
   "outputs": [],
   "source": [
    "# We find that the system is overdetermined: y and z can be anything; x -6y + 3z = 1, and w + 10y - 4z = 1\n",
    "# If we let y = z = 1, we find x = 4 and w = -5"
   ]
  },
  {
   "cell_type": "code",
   "execution_count": 33,
   "id": "cognitive-chick",
   "metadata": {},
   "outputs": [
    {
     "data": {
      "text/latex": [
       "$\\displaystyle \\left[\\begin{matrix}0 & 0 & 2 & 0\\\\1 & 0 & 1 & 0\\\\0 & 1 & -2 & 0\\\\0 & 0 & 0 & 1\\end{matrix}\\right]$"
      ],
      "text/plain": [
       "Matrix([\n",
       "[0, 0,  2, 0],\n",
       "[1, 0,  1, 0],\n",
       "[0, 1, -2, 0],\n",
       "[0, 0,  0, 1]])"
      ]
     },
     "execution_count": 33,
     "metadata": {},
     "output_type": "execute_result"
    }
   ],
   "source": [
    "# Problem 4:\n",
    "M = Matrix([[0,0,2,0],[1,0,1,0],[0,1,-2,0],[0,0,0,1]])\n",
    "M\n"
   ]
  },
  {
   "cell_type": "code",
   "execution_count": 34,
   "id": "aggressive-vocabulary",
   "metadata": {},
   "outputs": [
    {
     "data": {
      "text/plain": [
       "{1: 2, -1: 1, -2: 1}"
      ]
     },
     "execution_count": 34,
     "metadata": {},
     "output_type": "execute_result"
    }
   ],
   "source": [
    "#Find the eigenvalues\n",
    "M.eigenvals()\n",
    "# eigenvalues are lambda = 1, -1, and -2"
   ]
  },
  {
   "cell_type": "code",
   "execution_count": 40,
   "id": "romantic-notification",
   "metadata": {},
   "outputs": [
    {
     "data": {
      "text/latex": [
       "$\\displaystyle \\left[\\begin{matrix}-1\\\\0\\\\1\\\\0\\end{matrix}\\right]$"
      ],
      "text/plain": [
       "Matrix([\n",
       "[-1],\n",
       "[ 0],\n",
       "[ 1],\n",
       "[ 0]])"
      ]
     },
     "execution_count": 40,
     "metadata": {},
     "output_type": "execute_result"
    }
   ],
   "source": [
    "# and the associated eigenvectors\n",
    "# for lambda = 2\n",
    "M.eigenvects()[0][2][0]\n"
   ]
  },
  {
   "cell_type": "code",
   "execution_count": 41,
   "id": "colored-finance",
   "metadata": {},
   "outputs": [
    {
     "data": {
      "text/latex": [
       "$\\displaystyle \\left[\\begin{matrix}-2\\\\1\\\\1\\\\0\\end{matrix}\\right]$"
      ],
      "text/plain": [
       "Matrix([\n",
       "[-2],\n",
       "[ 1],\n",
       "[ 1],\n",
       "[ 0]])"
      ]
     },
     "execution_count": 41,
     "metadata": {},
     "output_type": "execute_result"
    }
   ],
   "source": [
    "#for lambda = -1\n",
    "M.eigenvects()[1][2][0]"
   ]
  },
  {
   "cell_type": "code",
   "execution_count": 42,
   "id": "limiting-medicine",
   "metadata": {},
   "outputs": [
    {
     "data": {
      "text/latex": [
       "$\\displaystyle \\left[\\begin{matrix}2\\\\3\\\\1\\\\0\\end{matrix}\\right]$"
      ],
      "text/plain": [
       "Matrix([\n",
       "[2],\n",
       "[3],\n",
       "[1],\n",
       "[0]])"
      ]
     },
     "execution_count": 42,
     "metadata": {},
     "output_type": "execute_result"
    }
   ],
   "source": [
    "# and for lambda = 1\n",
    "M.eigenvects()[2][2][0]"
   ]
  },
  {
   "cell_type": "code",
   "execution_count": 45,
   "id": "pursuant-madison",
   "metadata": {},
   "outputs": [
    {
     "data": {
      "text/latex": [
       "$\\displaystyle \\left[\\begin{matrix}0\\\\0\\\\0\\\\1\\end{matrix}\\right]$"
      ],
      "text/plain": [
       "Matrix([\n",
       "[0],\n",
       "[0],\n",
       "[0],\n",
       "[1]])"
      ]
     },
     "execution_count": 45,
     "metadata": {},
     "output_type": "execute_result"
    }
   ],
   "source": [
    "# or\n",
    "M.eigenvects()[2][2][1]"
   ]
  },
  {
   "cell_type": "code",
   "execution_count": null,
   "id": "opponent-period",
   "metadata": {},
   "outputs": [],
   "source": []
  }
 ],
 "metadata": {
  "kernelspec": {
   "display_name": "Python 3 (ipykernel)",
   "language": "python",
   "name": "python3"
  },
  "language_info": {
   "codemirror_mode": {
    "name": "ipython",
    "version": 3
   },
   "file_extension": ".py",
   "mimetype": "text/x-python",
   "name": "python",
   "nbconvert_exporter": "python",
   "pygments_lexer": "ipython3",
   "version": "3.7.3"
  }
 },
 "nbformat": 4,
 "nbformat_minor": 5
}
